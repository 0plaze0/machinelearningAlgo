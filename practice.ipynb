{
 "cells": [
  {
   "cell_type": "code",
   "execution_count": 78,
   "id": "93e54915-ff74-462f-b799-8cd788780f75",
   "metadata": {},
   "outputs": [],
   "source": [
    "#imports\n",
    "import pandas as pd\n",
    "import numpy as np\n",
    "import matplotlib.pyplot as plt\n",
    "from sklearn.model_selection import train_test_split\n",
    "from sklearn.metrics import accuracy_score\n",
    "from sklearn.metrics import confusion_matrix, mean_squared_error, r2_score,classification_report\n",
    "from sklearn.svm import SVC #SVM\n",
    "from sklearn.naive_bayes import MultinomialNB #Naive bayes\n",
    "from sklearn.tree import DecisionTreeClassifier #Decision Tree\n",
    "from sklearn.neighbors import KNeighborsClassifier #KNN\n",
    "from sklearn.cluster import KMeans #kmean\n",
    "from sklearn.model_selection import train_test_split #anova\n",
    "from sklearn.linear_model import LinearRegression #linera regression\n",
    "from sklearn.linear_model import LogisticRegression #logistic regresssion\n",
    "import scipy.stats as stats #for anova"
   ]
  },
  {
   "cell_type": "code",
   "execution_count": 25,
   "id": "9460ac38-2dce-46b1-aa4e-238bfb1d741b",
   "metadata": {},
   "outputs": [],
   "source": [
    "#read csv\n",
    "data = pd.read_csv(r\"C:\\Users\\admin\\Desktop\\Practical Practice\\IRIS.csv\") #Put you own CSV"
   ]
  },
  {
   "cell_type": "code",
   "execution_count": 26,
   "id": "2bc71885-3ede-4cf2-91d3-5f2f7c4f710b",
   "metadata": {},
   "outputs": [],
   "source": [
    "X = data.drop('species', axis=1)\n",
    "Y = data['species']"
   ]
  },
  {
   "cell_type": "code",
   "execution_count": 27,
   "id": "81f29945-b4ae-477b-a442-a0116cef0b47",
   "metadata": {},
   "outputs": [],
   "source": [
    "# transform data if necessary for X\n",
    "from sklearn.preprocessing import OneHotEncoder\n",
    "from sklearn.compose import ColumnTransformer\n",
    "from sklearn.preprocessing import LabelEncoder\n",
    "\n",
    "# categorical_features = ['species']\n",
    "one_hot = OneHotEncoder()\n",
    "transformer = ColumnTransformer([('one_hot',one_hot,categorical_features)],remainder='passthrough')\n",
    "transformed_X = transformer.fit_transform(X)\n",
    "\n",
    "# transform data if necessary for X\n",
    "label_encoder = LabelEncoder()\n",
    "encoded_Y = label_encoder.fit_transform(Y)"
   ]
  },
  {
   "cell_type": "code",
   "execution_count": 39,
   "id": "1184beac-0579-4564-b720-7b849f1b3072",
   "metadata": {},
   "outputs": [],
   "source": [
    "#training test split\n",
    "X_train, X_test, y_train, y_test = train_test_split(X, Y, test_size=0.2, random_state=42)"
   ]
  },
  {
   "cell_type": "code",
   "execution_count": null,
   "id": "69c834a8-6a9b-401a-ad6d-c2f4d323242a",
   "metadata": {},
   "outputs": [],
   "source": [
    "### predict\n",
    "# x1=[[5.1,3.5,1.4,0.2]]\n",
    "# pd.DataFrame(SVM_modal.predict(x1))\n",
    "\n",
    "#######################################################################"
   ]
  },
  {
   "cell_type": "code",
   "execution_count": 40,
   "id": "f524b887-2339-4b9e-a2da-39ce4b8de9d9",
   "metadata": {},
   "outputs": [
    {
     "name": "stdout",
     "output_type": "stream",
     "text": [
      "SVM_accuracy: 1.0\n"
     ]
    }
   ],
   "source": [
    "#SVM\n",
    "SVM_modal = SVC(kernel='rbf',gamma='auto',C=2)\n",
    "SVM_modal.fit(X_train,y_train)\n",
    "SVM_modal_predictions = SVM_modal.predict(X_test)\n",
    "SVM_accuracy = accuracy_score(y_test, SVM_modal_predictions)\n",
    "print(\"SVM_accuracy:\", SVM_accuracy)\n"
   ]
  },
  {
   "cell_type": "code",
   "execution_count": 30,
   "id": "9e8c3932-a5c2-4dda-9b10-d0404be009ad",
   "metadata": {},
   "outputs": [
    {
     "name": "stdout",
     "output_type": "stream",
     "text": [
      "Naive_Bayies_accuracy: 0.9\n"
     ]
    }
   ],
   "source": [
    "#naive Baise\n",
    "mnb= MultinomialNB()\n",
    "mnb.fit(X_train, y_train)\n",
    "y_pred = mnb.predict(X_test)\n",
    "print(\"Naive_Bayies_accuracy:\",accuracy_score(y_test, y_pred))"
   ]
  },
  {
   "cell_type": "code",
   "execution_count": 31,
   "id": "47aa5f9f-3dc7-42b9-9607-efeefa361be8",
   "metadata": {},
   "outputs": [
    {
     "name": "stdout",
     "output_type": "stream",
     "text": [
      "Decision_Tree_accuracy: 1.0\n"
     ]
    }
   ],
   "source": [
    "#DecisionTreeClassifier\n",
    "DTC = DecisionTreeClassifier()\n",
    "DTC.fit(X_train,y_train)\n",
    "y_pred = DTC.predict(X_test)\n",
    "print(\"Decision_Tree_accuracy:\",accuracy_score(y_test, y_pred))"
   ]
  },
  {
   "cell_type": "code",
   "execution_count": 90,
   "id": "25cae05f-e880-4f7a-ba43-be28858461f7",
   "metadata": {},
   "outputs": [
    {
     "name": "stdout",
     "output_type": "stream",
     "text": [
      "logistic-regression_accuracy: 1.0\n"
     ]
    }
   ],
   "source": [
    "#logistic regression\n",
    "logreg = LogisticRegression()\n",
    "logreg.fit(X_train,y_train)\n",
    "y_pred = logreg.predict(X_test)\n",
    "print(\"logistic-regression_accuracy:\",accuracy_score(y_test, y_pred))"
   ]
  },
  {
   "cell_type": "code",
   "execution_count": 65,
   "id": "15ea3117-6002-42f9-b0ff-b9eb3bd947eb",
   "metadata": {},
   "outputs": [
    {
     "name": "stdout",
     "output_type": "stream",
     "text": [
      "K-Nearest-Neighbor_accuracy: 1.0\n"
     ]
    }
   ],
   "source": [
    "#KNN\n",
    "knn = KNeighborsClassifier(n_neighbors=5)\n",
    "knn.fit(X_train, y_train)\n",
    "y_pred = knn.predict(X_test)\n",
    "print(\"K-Nearest-Neighbor_accuracy:\",accuracy_score(y_test, y_pred))"
   ]
  },
  {
   "cell_type": "code",
   "execution_count": 53,
   "id": "08a2ba1b-eadf-4ed3-b422-631b141b649b",
   "metadata": {},
   "outputs": [
    {
     "name": "stdout",
     "output_type": "stream",
     "text": [
      "Intercept for linear regression: 0.2582505124634529\n",
      "Mean Squared Error of linear regression: 0.03723364456197504\n",
      "R-squared linear regression: 0.9467245149351708\n",
      "coefficient linear regression: [-0.11368098 -0.06458377  0.25261442  0.54938903]\n"
     ]
    }
   ],
   "source": [
    "# transform data if necessary for X\n",
    "label_encoder = LabelEncoder()\n",
    "encoded_Y = label_encoder.fit_transform(Y)\n",
    "X_train, X_test, y_train, y_test = train_test_split(X, encoded_Y, test_size=0.2, random_state=42)\n",
    "\n",
    "#linear regression\n",
    "linreg = LinearRegression()\n",
    "linreg.fit(X_train, y_train)\n",
    "y_pred = linreg.predict(X_test)\n",
    "mse = mean_squared_error(y_test, y_pred)\n",
    "r2 = r2_score(y_test, y_pred)\n",
    "y_pred = linreg.predict(X_test)\n",
    "intercept = linreg.intercept_\n",
    "\n",
    "print(\"Intercept for linear regression:\", intercept)\n",
    "print(f\"Mean Squared Error of linear regression: {mse}\")\n",
    "print(f\"R-squared linear regression: {r2}\")\n",
    "print(\"coefficient linear regression:\",linreg.coef_)"
   ]
  },
  {
   "cell_type": "code",
   "execution_count": 76,
   "id": "d037f474-8842-4884-a3da-7498a7f8f940",
   "metadata": {},
   "outputs": [
    {
     "name": "stderr",
     "output_type": "stream",
     "text": [
      "C:\\Users\\admin\\anaconda3\\Lib\\site-packages\\sklearn\\cluster\\_kmeans.py:870: FutureWarning: The default value of `n_init` will change from 10 to 'auto' in 1.4. Set the value of `n_init` explicitly to suppress the warning\n",
      "  warnings.warn(\n",
      "C:\\Users\\admin\\anaconda3\\Lib\\site-packages\\sklearn\\cluster\\_kmeans.py:1382: UserWarning: KMeans is known to have a memory leak on Windows with MKL, when there are less chunks than available threads. You can avoid it by setting the environment variable OMP_NUM_THREADS=1.\n",
      "  warnings.warn(\n"
     ]
    },
    {
     "name": "stdout",
     "output_type": "stream",
     "text": [
      "k_mean_accuracy: 0.3333333333333333\n"
     ]
    }
   ],
   "source": [
    "# kmean\n",
    "\n",
    "kmeans = KMeans(n_clusters=3, random_state=5) \n",
    "kmeans.fit(X)\n",
    "y_pred = kmeans.predict(X_test)\n",
    "#print(classification_report(y_test, y_pred))\n",
    "print(\"k_mean_accuracy:\",accuracy_score(y_test, y_pred))"
   ]
  },
  {
   "cell_type": "code",
   "execution_count": 89,
   "id": "1b0d816c-9a20-42b6-8d95-bb5081b62065",
   "metadata": {},
   "outputs": [
    {
     "name": "stdout",
     "output_type": "stream",
     "text": [
      "t-test based on species:\n",
      "t Statistic: -42.738229672411165\n",
      "p-value: 3.582719502316063e-65\n"
     ]
    }
   ],
   "source": [
    "#ttest\n",
    "setosa=data[data['species']=='Iris-setosa']['petal_width']\n",
    "virginica=data[data['species']=='Iris-virginica']['petal_width']\n",
    "versicolor=data[data['species']=='Iris-versicolor']['petal_width']\n",
    "t_statistic_gender, p_value_gender = stats.ttest_ind(setosa, virginica)\n",
    "print(\"t-test based on species:\")\n",
    "print(\"t Statistic:\", t_statistic_gender)\n",
    "print(\"p-value:\", p_value_gender)"
   ]
  },
  {
   "cell_type": "code",
   "execution_count": null,
   "id": "97641993-6308-4537-ac74-3a9fa05b1115",
   "metadata": {},
   "outputs": [],
   "source": []
  }
 ],
 "metadata": {
  "kernelspec": {
   "display_name": "Python 3 (ipykernel)",
   "language": "python",
   "name": "python3"
  },
  "language_info": {
   "codemirror_mode": {
    "name": "ipython",
    "version": 3
   },
   "file_extension": ".py",
   "mimetype": "text/x-python",
   "name": "python",
   "nbconvert_exporter": "python",
   "pygments_lexer": "ipython3",
   "version": "3.11.7"
  }
 },
 "nbformat": 4,
 "nbformat_minor": 5
}
